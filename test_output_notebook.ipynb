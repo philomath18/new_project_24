{
 "cells": [
  {
   "cell_type": "code",
   "execution_count": 1,
   "id": "09852093",
   "metadata": {
    "colab": {
     "base_uri": "https://localhost:8080/"
    },
    "execution": {
     "iopub.execute_input": "2024-11-21T11:51:34.569075Z",
     "iopub.status.busy": "2024-11-21T11:51:34.568805Z",
     "iopub.status.idle": "2024-11-21T11:51:34.576306Z",
     "shell.execute_reply": "2024-11-21T11:51:34.575656Z"
    },
    "id": "bqcR8WABd0DJ",
    "outputId": "7ac73d3f-5fa6-4e2e-92ab-eaecd918a95a",
    "papermill": {
     "duration": 0.011171,
     "end_time": "2024-11-21T11:51:34.577454",
     "exception": false,
     "start_time": "2024-11-21T11:51:34.566283",
     "status": "completed"
    },
    "tags": []
   },
   "outputs": [
    {
     "name": "stdout",
     "output_type": "stream",
     "text": [
      "123\n"
     ]
    }
   ],
   "source": [
    "print(\"123\")"
   ]
  },
  {
   "cell_type": "code",
   "execution_count": 2,
   "id": "d9fd6f13",
   "metadata": {
    "colab": {
     "base_uri": "https://localhost:8080/"
    },
    "execution": {
     "iopub.execute_input": "2024-11-21T11:51:34.581219Z",
     "iopub.status.busy": "2024-11-21T11:51:34.580727Z",
     "iopub.status.idle": "2024-11-21T11:51:34.584153Z",
     "shell.execute_reply": "2024-11-21T11:51:34.583514Z"
    },
    "id": "zeas4-_9d8z2",
    "outputId": "a6ac6a71-7a26-471a-c09b-c9bca0a26f00",
    "papermill": {
     "duration": 0.006324,
     "end_time": "2024-11-21T11:51:34.585193",
     "exception": false,
     "start_time": "2024-11-21T11:51:34.578869",
     "status": "completed"
    },
    "tags": []
   },
   "outputs": [
    {
     "name": "stdout",
     "output_type": "stream",
     "text": [
      "6\n"
     ]
    }
   ],
   "source": [
    "print(2+4)"
   ]
  },
  {
   "cell_type": "code",
   "execution_count": null,
   "id": "7c37a43e",
   "metadata": {
    "id": "W0zv67XRd-Q8",
    "papermill": {
     "duration": 0.000989,
     "end_time": "2024-11-21T11:51:34.587275",
     "exception": false,
     "start_time": "2024-11-21T11:51:34.586286",
     "status": "completed"
    },
    "tags": []
   },
   "outputs": [],
   "source": []
  }
 ],
 "metadata": {
  "colab": {
   "provenance": []
  },
  "kernelspec": {
   "display_name": "Python 3",
   "name": "python3"
  },
  "language_info": {
   "codemirror_mode": {
    "name": "ipython",
    "version": 3
   },
   "file_extension": ".py",
   "mimetype": "text/x-python",
   "name": "python",
   "nbconvert_exporter": "python",
   "pygments_lexer": "ipython3",
   "version": "3.9.20"
  },
  "papermill": {
   "default_parameters": {},
   "duration": 1.629107,
   "end_time": "2024-11-21T11:51:34.703133",
   "environment_variables": {},
   "exception": null,
   "input_path": "https://raw.githubusercontent.com/philomath18/new_project_24/refs/heads/main/test_notebook.ipynb",
   "output_path": "/tmp/test_output_notebook.ipynb",
   "parameters": {},
   "start_time": "2024-11-21T11:51:33.074026",
   "version": "2.6.0"
  }
 },
 "nbformat": 4,
 "nbformat_minor": 5
}